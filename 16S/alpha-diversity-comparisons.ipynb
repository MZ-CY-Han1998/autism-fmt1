{
 "cells": [
  {
   "cell_type": "code",
   "execution_count": 14,
   "metadata": {
    "collapsed": true
   },
   "outputs": [],
   "source": [
    "import pandas as pd\n",
    "import scipy as sp\n",
    "\n",
    "import asd\n",
    "%matplotlib inline"
   ]
  },
  {
   "cell_type": "code",
   "execution_count": 29,
   "metadata": {
    "collapsed": true
   },
   "outputs": [],
   "source": [
    "faithpd_fp1 = \"../microbiome-data/run1-4/vsearch-100/cd_even5721/arare_max5721/alpha_div_collated/PD_whole_tree.txt\"\n",
    "faithpd_fp2 = \"../microbiome-data/run1-4/vsearch-100/cd_even10040/arare_max10040/alpha_div_collated/PD_whole_tree.txt\"\n",
    "faithpd_fp3 = \"../microbiome-data/run1-4/qiime-97/cd_even5721/arare_max5721/alpha_div_collated/PD_whole_tree.txt\"\n",
    "sample_md_fp = 'combined-map.tsv'"
   ]
  },
  {
   "cell_type": "code",
   "execution_count": 30,
   "metadata": {
    "collapsed": true
   },
   "outputs": [],
   "source": [
    "sample_md = pd.read_csv(sample_md_fp, sep='\\t', index_col=0, dtype=object)\n",
    "faithpd1 = pd.read_csv(faithpd_fp1, sep='\\t')\n",
    "faithpd2 = pd.read_csv(faithpd_fp2, sep='\\t')\n",
    "faithpd3 = pd.read_csv(faithpd_fp3, sep='\\t')"
   ]
  },
  {
   "cell_type": "code",
   "execution_count": 31,
   "metadata": {
    "collapsed": false
   },
   "outputs": [],
   "source": [
    "sample_md = asd.add_alpha_diversity(sample_md, faithpd1, 'Faith PD 1')\n",
    "sample_md = asd.add_alpha_diversity(sample_md, faithpd2, 'Faith PD 2')\n",
    "sample_md = asd.add_alpha_diversity(sample_md, faithpd3, 'Faith PD 3')"
   ]
  },
  {
   "cell_type": "code",
   "execution_count": 32,
   "metadata": {
    "collapsed": false
   },
   "outputs": [
    {
     "name": "stdout",
     "output_type": "stream",
     "text": [
      "548\n",
      "(0.99738281188133926, 0.0)\n"
     ]
    }
   ],
   "source": [
    "df = sample_md['Faith PD 1'].to_frame()\n",
    "df = df.join(sample_md['Faith PD 2']).dropna()\n",
    "print(len(df))\n",
    "print(sp.stats.pearsonr(df['Faith PD 1'], df['Faith PD 2']))"
   ]
  },
  {
   "cell_type": "code",
   "execution_count": 33,
   "metadata": {
    "collapsed": false
   },
   "outputs": [
    {
     "name": "stdout",
     "output_type": "stream",
     "text": [
      "569\n",
      "(0.97038010166156996, 0.0)\n"
     ]
    }
   ],
   "source": [
    "df = sample_md['Faith PD 1'].to_frame()\n",
    "df = df.join(sample_md['Faith PD 3']).dropna()\n",
    "print(len(df))\n",
    "print(sp.stats.pearsonr(df['Faith PD 1'], df['Faith PD 3']))"
   ]
  },
  {
   "cell_type": "code",
   "execution_count": null,
   "metadata": {
    "collapsed": true
   },
   "outputs": [],
   "source": []
  }
 ],
 "metadata": {
  "kernelspec": {
   "display_name": "Python 3",
   "language": "python",
   "name": "python3"
  },
  "language_info": {
   "codemirror_mode": {
    "name": "ipython",
    "version": 3
   },
   "file_extension": ".py",
   "mimetype": "text/x-python",
   "name": "python",
   "nbconvert_exporter": "python",
   "pygments_lexer": "ipython3",
   "version": "3.5.0"
  }
 },
 "nbformat": 4,
 "nbformat_minor": 0
}
