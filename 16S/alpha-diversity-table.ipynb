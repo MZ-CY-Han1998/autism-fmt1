{
 "cells": [
  {
   "cell_type": "code",
   "execution_count": 1,
   "metadata": {
    "collapsed": true
   },
   "outputs": [],
   "source": [
    "#add to analysis notes (currently no internet connection):\n",
    "# alpha_diversity.py -i table_even5721.biom -m shannon -o table_even5721_shannon_diversity.txt"
   ]
  },
  {
   "cell_type": "code",
   "execution_count": 2,
   "metadata": {
    "collapsed": false
   },
   "outputs": [],
   "source": [
    "import pandas as pd\n",
    "import asd\n",
    "import numpy as np\n",
    "\n",
    "sample_md_fp = 'combined-map.tsv'\n",
    "faithpd_fp = \"../../microbiome-data/run1-4/vsearch-100/cd_even5721/arare_max5721/alpha_div_collated/PD_whole_tree.txt\"\n",
    "oo_fp = \"../../microbiome-data/run1-4/vsearch-100/cd_even5721/arare_max5721/alpha_div_collated/observed_otus.txt\"\n",
    "\n",
    "sample_md = pd.read_csv(sample_md_fp, sep='\\t', index_col=0, dtype=object)\n",
    "faithpd = pd.read_csv(faithpd_fp, sep='\\t')\n",
    "oo = pd.read_csv(oo_fp, sep='\\t')\n",
    "\n",
    "sample_md = asd.add_alpha_diversity(sample_md, faithpd, 'Faith PD')\n",
    "sample_md = asd.add_alpha_diversity(sample_md, oo, 'Observed OTUs')"
   ]
  },
  {
   "cell_type": "code",
   "execution_count": 26,
   "metadata": {
    "collapsed": false
   },
   "outputs": [],
   "source": [
    "shannon_diversity = pd.read_csv('../../microbiome-data/run1-4/vsearch-100/cd_even5721/table_even5721_shannon_diversity.txt', \n",
    "                                sep='\\t', index_col=0, dtype=object)\n",
    "sample_md['Shannon'] = shannon_diversity\n",
    "sample_md['Shannon'] = pd.to_numeric(sample_md['Shannon'])"
   ]
  },
  {
   "cell_type": "code",
   "execution_count": 27,
   "metadata": {
    "collapsed": false
   },
   "outputs": [],
   "source": [
    "sample_md[['Faith PD', 'Observed OTUs', 'Shannon']].to_csv('./alpha-diversity-even5721.csv')"
   ]
  },
  {
   "cell_type": "code",
   "execution_count": 28,
   "metadata": {
    "collapsed": true
   },
   "outputs": [],
   "source": [
    "from scipy.stats import spearmanr\n"
   ]
  },
  {
   "cell_type": "code",
   "execution_count": 29,
   "metadata": {
    "collapsed": false
   },
   "outputs": [],
   "source": [
    "alpha_data = sample_md[['Faith PD', 'Observed OTUs', 'Shannon']].dropna()"
   ]
  },
  {
   "cell_type": "code",
   "execution_count": 30,
   "metadata": {
    "collapsed": false
   },
   "outputs": [
    {
     "data": {
      "text/plain": [
       "SpearmanrResult(correlation=0.89990712540521589, pvalue=1.6051073236350284e-206)"
      ]
     },
     "execution_count": 30,
     "metadata": {},
     "output_type": "execute_result"
    }
   ],
   "source": [
    "spearmanr(alpha_data['Faith PD'], alpha_data['Observed OTUs'])"
   ]
  },
  {
   "cell_type": "code",
   "execution_count": 31,
   "metadata": {
    "collapsed": false
   },
   "outputs": [
    {
     "data": {
      "text/plain": [
       "SpearmanrResult(correlation=0.83362296617555676, pvalue=2.7040937493498394e-148)"
      ]
     },
     "execution_count": 31,
     "metadata": {},
     "output_type": "execute_result"
    }
   ],
   "source": [
    "spearmanr(alpha_data['Faith PD'], alpha_data['Shannon'])"
   ]
  },
  {
   "cell_type": "code",
   "execution_count": 32,
   "metadata": {
    "collapsed": false
   },
   "outputs": [
    {
     "data": {
      "text/plain": [
       "SpearmanrResult(correlation=0.95809230752099617, pvalue=4.9941360541954489e-310)"
      ]
     },
     "execution_count": 32,
     "metadata": {},
     "output_type": "execute_result"
    }
   ],
   "source": [
    "spearmanr(alpha_data['Observed OTUs'], alpha_data['Shannon'])"
   ]
  },
  {
   "cell_type": "code",
   "execution_count": 39,
   "metadata": {
    "collapsed": false
   },
   "outputs": [],
   "source": [
    "def tabulate_week_medians(df, sample_type, group):\n",
    "    df = asd.filter_sample_md(df, [('SampleType', sample_type), ('Group', group)])\n",
    "    results = []\n",
    "    df['week'] = pd.to_numeric(df['week'], errors='coerce')\n",
    "    df = df.sort_values(by='week')\n",
    "    weeks = df['week'].unique()\n",
    "    results = []\n",
    "    for i in weeks:\n",
    "        result = []\n",
    "        result.append(np.median(df[df['week'] == i]['Faith PD'].dropna()))\n",
    "        result.append(np.median(df[df['week'] == i]['Observed OTUs'].dropna()))\n",
    "        result.append(np.median(df[df['week'] == i]['Shannon'].dropna()))\n",
    "        results.append(result)\n",
    "    results = pd.DataFrame(results, index=weeks, columns=['Faith PD', 'Observed OTUs', 'Shannon'])\n",
    "    return results"
   ]
  },
  {
   "cell_type": "code",
   "execution_count": 41,
   "metadata": {
    "collapsed": false
   },
   "outputs": [],
   "source": [
    "week_medians = tabulate_week_medians(sample_md, 'stool', 'autism')"
   ]
  },
  {
   "cell_type": "code",
   "execution_count": 42,
   "metadata": {
    "collapsed": false
   },
   "outputs": [
    {
     "data": {
      "text/html": [
       "<div>\n",
       "<table border=\"1\" class=\"dataframe\">\n",
       "  <thead>\n",
       "    <tr style=\"text-align: right;\">\n",
       "      <th></th>\n",
       "      <th>Faith PD</th>\n",
       "      <th>Observed OTUs</th>\n",
       "      <th>Shannon</th>\n",
       "    </tr>\n",
       "  </thead>\n",
       "  <tbody>\n",
       "    <tr>\n",
       "      <th>0</th>\n",
       "      <td>47.153514</td>\n",
       "      <td>1295.55</td>\n",
       "      <td>7.215662</td>\n",
       "    </tr>\n",
       "    <tr>\n",
       "      <th>3</th>\n",
       "      <td>46.662844</td>\n",
       "      <td>1335.60</td>\n",
       "      <td>7.301306</td>\n",
       "    </tr>\n",
       "    <tr>\n",
       "      <th>10</th>\n",
       "      <td>55.173771</td>\n",
       "      <td>1418.85</td>\n",
       "      <td>7.621539</td>\n",
       "    </tr>\n",
       "    <tr>\n",
       "      <th>18</th>\n",
       "      <td>57.419133</td>\n",
       "      <td>1457.25</td>\n",
       "      <td>7.874055</td>\n",
       "    </tr>\n",
       "  </tbody>\n",
       "</table>\n",
       "</div>"
      ],
      "text/plain": [
       "     Faith PD  Observed OTUs   Shannon\n",
       "0   47.153514        1295.55  7.215662\n",
       "3   46.662844        1335.60  7.301306\n",
       "10  55.173771        1418.85  7.621539\n",
       "18  57.419133        1457.25  7.874055"
      ]
     },
     "execution_count": 42,
     "metadata": {},
     "output_type": "execute_result"
    }
   ],
   "source": [
    "week_medians"
   ]
  },
  {
   "cell_type": "code",
   "execution_count": 45,
   "metadata": {
    "collapsed": false
   },
   "outputs": [
    {
     "name": "stdout",
     "output_type": "stream",
     "text": [
      "Faith PD 0.217706328125\n",
      "Observed OTUs 0.124811855969\n",
      "Shannon 0.0912449396715\n"
     ]
    }
   ],
   "source": [
    "for metric in week_medians.columns:\n",
    "    print(metric, (week_medians[metric][18] - week_medians[metric][0])/week_medians[metric][0])"
   ]
  },
  {
   "cell_type": "code",
   "execution_count": null,
   "metadata": {
    "collapsed": true
   },
   "outputs": [],
   "source": []
  }
 ],
 "metadata": {
  "kernelspec": {
   "display_name": "Python 3",
   "language": "python",
   "name": "python3"
  },
  "language_info": {
   "codemirror_mode": {
    "name": "ipython",
    "version": 3
   },
   "file_extension": ".py",
   "mimetype": "text/x-python",
   "name": "python",
   "nbconvert_exporter": "python",
   "pygments_lexer": "ipython3",
   "version": "3.5.1"
  }
 },
 "nbformat": 4,
 "nbformat_minor": 0
}
