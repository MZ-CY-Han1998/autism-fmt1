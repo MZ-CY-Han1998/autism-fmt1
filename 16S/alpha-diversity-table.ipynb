{
 "cells": [
  {
   "cell_type": "code",
   "execution_count": null,
   "metadata": {
    "collapsed": true
   },
   "outputs": [],
   "source": [
    "#add to analysis notes (currently no internet connection):\n",
    "# alpha_diversity.py -i table_even5721.biom -m shannon -o table_even5721_shannon_diversity.txt"
   ]
  },
  {
   "cell_type": "code",
   "execution_count": 4,
   "metadata": {
    "collapsed": false
   },
   "outputs": [],
   "source": [
    "import pandas as pd\n",
    "import asd\n",
    "\n",
    "sample_md_fp = 'combined-map.tsv'\n",
    "faithpd_fp = \"../../microbiome-data/run1-4/vsearch-100/cd_even5721/arare_max5721/alpha_div_collated/PD_whole_tree.txt\"\n",
    "oo_fp = \"../../microbiome-data/run1-4/vsearch-100/cd_even5721/arare_max5721/alpha_div_collated/observed_otus.txt\"\n",
    "\n",
    "sample_md = pd.read_csv(sample_md_fp, sep='\\t', index_col=0, dtype=object)\n",
    "faithpd = pd.read_csv(faithpd_fp, sep='\\t')\n",
    "oo = pd.read_csv(oo_fp, sep='\\t')\n",
    "\n",
    "sample_md = asd.add_alpha_diversity(sample_md, faithpd, 'Faith PD')\n",
    "sample_md = asd.add_alpha_diversity(sample_md, oo, 'Observed OTUs')"
   ]
  },
  {
   "cell_type": "code",
   "execution_count": 7,
   "metadata": {
    "collapsed": false
   },
   "outputs": [],
   "source": [
    "shannon_diversity = pd.read_csv('../../microbiome-data/run1-4/vsearch-100/cd_even5721/table_even5721_shannon_diversity.txt', \n",
    "                                sep='\\t', index_col=0, dtype=object)\n",
    "sample_md['Shannon'] = shannon_diversity"
   ]
  },
  {
   "cell_type": "code",
   "execution_count": 9,
   "metadata": {
    "collapsed": false
   },
   "outputs": [],
   "source": [
    "sample_md[['Faith PD', 'Observed OTUs', 'Shannon']].to_csv('./alpha-diversity-even5721.csv')"
   ]
  },
  {
   "cell_type": "code",
   "execution_count": 10,
   "metadata": {
    "collapsed": true
   },
   "outputs": [],
   "source": [
    "from scipy.stats import spearmanr\n"
   ]
  },
  {
   "cell_type": "code",
   "execution_count": 11,
   "metadata": {
    "collapsed": false
   },
   "outputs": [],
   "source": [
    "sample_md = sample_md[['Faith PD', 'Observed OTUs', 'Shannon']].dropna()"
   ]
  },
  {
   "cell_type": "code",
   "execution_count": 12,
   "metadata": {
    "collapsed": false
   },
   "outputs": [
    {
     "data": {
      "text/plain": [
       "SpearmanrResult(correlation=0.89990712540521589, pvalue=1.6051073236350284e-206)"
      ]
     },
     "execution_count": 12,
     "metadata": {},
     "output_type": "execute_result"
    }
   ],
   "source": [
    "spearmanr(sample_md['Faith PD'], sample_md['Observed OTUs'])"
   ]
  },
  {
   "cell_type": "code",
   "execution_count": 13,
   "metadata": {
    "collapsed": false
   },
   "outputs": [
    {
     "name": "stderr",
     "output_type": "stream",
     "text": [
      "/Users/caporaso/miniconda3/envs/autism-fmt/lib/python3.5/site-packages/scipy/stats/stats.py:257: RuntimeWarning: The input array could not be properly checked for nan values. nan values will be ignored.\n",
      "  \"values. nan values will be ignored.\", RuntimeWarning)\n"
     ]
    },
    {
     "data": {
      "text/plain": [
       "SpearmanrResult(correlation=0.83362296617555676, pvalue=2.7040937493498394e-148)"
      ]
     },
     "execution_count": 13,
     "metadata": {},
     "output_type": "execute_result"
    }
   ],
   "source": [
    "spearmanr(sample_md['Faith PD'], sample_md['Shannon'])"
   ]
  },
  {
   "cell_type": "code",
   "execution_count": 14,
   "metadata": {
    "collapsed": false
   },
   "outputs": [
    {
     "name": "stderr",
     "output_type": "stream",
     "text": [
      "/Users/caporaso/miniconda3/envs/autism-fmt/lib/python3.5/site-packages/scipy/stats/stats.py:257: RuntimeWarning: The input array could not be properly checked for nan values. nan values will be ignored.\n",
      "  \"values. nan values will be ignored.\", RuntimeWarning)\n"
     ]
    },
    {
     "data": {
      "text/plain": [
       "SpearmanrResult(correlation=0.95809230752099617, pvalue=4.9941360541954489e-310)"
      ]
     },
     "execution_count": 14,
     "metadata": {},
     "output_type": "execute_result"
    }
   ],
   "source": [
    "spearmanr(sample_md['Observed OTUs'], sample_md['Shannon'])"
   ]
  },
  {
   "cell_type": "code",
   "execution_count": null,
   "metadata": {
    "collapsed": true
   },
   "outputs": [],
   "source": []
  }
 ],
 "metadata": {
  "kernelspec": {
   "display_name": "Python 3",
   "language": "python",
   "name": "python3"
  },
  "language_info": {
   "codemirror_mode": {
    "name": "ipython",
    "version": 3
   },
   "file_extension": ".py",
   "mimetype": "text/x-python",
   "name": "python",
   "nbconvert_exporter": "python",
   "pygments_lexer": "ipython3",
   "version": "3.5.1"
  }
 },
 "nbformat": 4,
 "nbformat_minor": 0
}
