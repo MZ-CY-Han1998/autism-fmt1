{
 "cells": [
  {
   "cell_type": "markdown",
   "metadata": {},
   "source": [
    "Sample metdata [here](https://docs.google.com/spreadsheets/d/1SNYZm3Y42R3Q2WdRTkw7Avg089KkEaIyRxI84s8ASHg/edit#gid=0)."
   ]
  },
  {
   "cell_type": "code",
   "execution_count": 1,
   "metadata": {
    "collapsed": false
   },
   "outputs": [
    {
     "name": "stdout",
     "output_type": "stream",
     "text": [
      "/Users/caporaso/Google Drive/analysis/2016.02-abor/notebooks\r\n"
     ]
    }
   ],
   "source": [
    "!pwd"
   ]
  },
  {
   "cell_type": "code",
   "execution_count": 2,
   "metadata": {
    "collapsed": true
   },
   "outputs": [],
   "source": [
    "uu_fp = \"../microbiome-data/vsearch-derep/cd_even5720/bdiv_even5720/unweighted_unifrac_dm.txt\"\n",
    "wu_fp = \"../microbiome-data/vsearch-derep/cd_even5720/bdiv_even5720/weighted_unifrac_dm.txt\"\n",
    "sample_md_fp = 'combined-map.tsv'"
   ]
  },
  {
   "cell_type": "code",
   "execution_count": 3,
   "metadata": {
    "collapsed": false
   },
   "outputs": [
    {
     "name": "stdout",
     "output_type": "stream",
     "text": [
      "MD5 (../microbiome-data/vsearch-derep/cd_even5720/bdiv_even5720/unweighted_unifrac_dm.txt) = 6b730dc35242e360132f108b0494e46f\n",
      "MD5 (../microbiome-data/vsearch-derep/cd_even5720/bdiv_even5720/weighted_unifrac_dm.txt) = 9bdf0806858def30530e023de2879626\n"
     ]
    }
   ],
   "source": [
    "!md5 $uu_fp\n",
    "!md5 $wu_fp"
   ]
  },
  {
   "cell_type": "code",
   "execution_count": 4,
   "metadata": {
    "collapsed": false
   },
   "outputs": [
    {
     "name": "stderr",
     "output_type": "stream",
     "text": [
      "/Users/caporaso/miniconda3/envs/q2d2/lib/python3.5/site-packages/matplotlib/__init__.py:872: UserWarning: axes.color_cycle is deprecated and replaced with axes.prop_cycle; please use the latter.\n",
      "  warnings.warn(self.msg_depr % (key, alt_key))\n"
     ]
    }
   ],
   "source": [
    "import pandas as pd\n",
    "import numpy as np\n",
    "import seaborn as sns\n",
    "import matplotlib.pyplot as plt\n",
    "\n",
    "from skbio import DistanceMatrix\n",
    "from skbio.stats.distance import MissingIDError\n",
    "\n",
    "sample_md = pd.read_csv(sample_md_fp, sep='\\t', index_col=0, dtype=object)\n",
    "wu_dm = DistanceMatrix.read(wu_fp)\n",
    "uu_dm = DistanceMatrix.read(uu_fp)"
   ]
  },
  {
   "cell_type": "code",
   "execution_count": 5,
   "metadata": {
    "collapsed": false
   },
   "outputs": [],
   "source": [
    "%matplotlib inline\n",
    "import seaborn as sns\n",
    "import scipy.stats\n",
    "\n",
    "palette = {'yes': '#68228B', 'no': '#807dba', \n",
    "           'neurotypical': '#228B22', 'donor': '#d95f02'}\n",
    "\n",
    "def get_donor_sids(sample_md):\n",
    "    donor_sids = sample_md[sample_md['SampleType'] == 'donor-stool']['SubjectID']\n",
    "    donor_sids = dict((v, k) for k, v in donor_sids.items())\n",
    "    return donor_sids\n",
    "\n",
    "def control_distance_to_donors(sample_md, dm, sample_type):\n",
    "    donor_sids = get_donor_sids(sample_md).values()\n",
    "    group_sids = filter_sample_md(sample_md, \n",
    "                                  [('Group', 'neurotypical'), ('time_point', \"1\"), \n",
    "                                   ('SampleType', sample_type)]).index\n",
    "    results = []\n",
    "    for donor_sid in donor_sids:\n",
    "        for group_sid in group_sids:\n",
    "            try:\n",
    "                d = dm[donor_sid, group_sid]\n",
    "            except MissingIDError:\n",
    "                continue\n",
    "            results.append(d)\n",
    "    return results\n",
    "\n",
    "def donor_metric(sample_md, metric):\n",
    "    group_sids = filter_sample_md(sample_md, \n",
    "                                  [('Group', 'donor-initial'), ('SampleType', 'donor-stool')]).index\n",
    "    return group_metric(sample_md, group_sids, metric)\n",
    "\n",
    "def control_metric(sample_md, sample_type, metric):\n",
    "    group_sids = filter_sample_md(sample_md, \n",
    "                                  [('Group', 'neurotypical'), ('time_point', \"1\"), ('SampleType', sample_type)]).index\n",
    "    return group_metric(sample_md, group_sids, metric)\n",
    "\n",
    "\n",
    "def group_metric(sample_md, group_sids, metric):\n",
    "    results = []\n",
    "    for group_sid in group_sids:\n",
    "        try:\n",
    "            v = float(sample_md[metric][group_sid])\n",
    "        except ValueError:\n",
    "            continue\n",
    "        if not np.isnan(v):\n",
    "            results.append(v)\n",
    "    return results\n",
    "         \n",
    "def _distance_to_donor(sid, donor, dm, donor_sids):\n",
    "    try:\n",
    "        donor_sid = donor_sids[donor]\n",
    "    except KeyError:\n",
    "        return np.nan\n",
    "        \n",
    "    try:\n",
    "        return dm[donor_sid, sid]\n",
    "    except MissingIDError:\n",
    "        return np.nan\n",
    "\n",
    "def add_distance_to_donor(sample_md, dm, metric_name, verbose=False):\n",
    "    distance_to_initial_donor_data = []\n",
    "    distance_to_most_relevant_donor_data = []\n",
    "    donor_sids = get_donor_sids(sample_md)\n",
    "    for sid in sample_md.index:\n",
    "        if sample_md['Group'][sid] == 'autism':\n",
    "            # compile distance to initial donor\n",
    "            initial_donor = sample_md['BBT_Donor_ID'][sid]\n",
    "            distance_to_initial_donor_data.append(_distance_to_donor(sid, initial_donor, dm, donor_sids))\n",
    "\n",
    "            # compile distance to most relevant donor (either the most recent, or the initial donor \n",
    "            # if pre-FMT, which helps to evaluate initial change)\n",
    "            most_relevant_donor = sample_md['MostRecentDonorID'][sid]\n",
    "            if most_relevant_donor == 'pre-treatment':\n",
    "                most_relevant_donor = sample_md['BBT_Donor_ID'][sid]\n",
    "            distance_to_most_relevant_donor_data.append(_distance_to_donor(sid, most_relevant_donor, dm, donor_sids))\n",
    "        elif sample_md['Group'][sid] == 'neurotypical' and sample_md['time_point'][sid] == \"1\":\n",
    "            # compile median distance from timepoint 0 of control to all donor samples\n",
    "            distances_to_donors = []\n",
    "            for donor_sid in donor_sids.values():\n",
    "                try:\n",
    "                    distances_to_donors.append(dm[donor_sid, sid])\n",
    "                except MissingIDError:\n",
    "                    continue\n",
    "            median_distance_to_donors = np.median(distances_to_donors)\n",
    "            distance_to_initial_donor_data.append(np.median(median_distance_to_donors))\n",
    "            distance_to_most_relevant_donor_data.append(np.median(median_distance_to_donors))\n",
    "        else:\n",
    "            # not a distance that we're compiling\n",
    "            distance_to_initial_donor_data.append(np.nan)\n",
    "            distance_to_most_relevant_donor_data.append(np.nan)\n",
    "        \n",
    "    sample_md['%s to initial donor' % metric_name] = distance_to_initial_donor_data\n",
    "    sample_md['%s to most relevant donor' % metric_name] = distance_to_most_relevant_donor_data\n",
    "    return sample_md\n",
    "\n",
    "def filter_sample_md(sample_md, includes):\n",
    "    result = sample_md.copy()\n",
    "    for column, value in includes:\n",
    "        result = result[result[column] == value]\n",
    "    return result"
   ]
  },
  {
   "cell_type": "code",
   "execution_count": 6,
   "metadata": {
    "collapsed": true
   },
   "outputs": [],
   "source": [
    "import bisect\n",
    "\n",
    "def plot_week_data(df, sample_type, metric, hue=None, hide_donor_baseline=False, hide_control_baseline=False):\n",
    "    df['week'] = pd.to_numeric(df['week'], errors='coerce')\n",
    "    df[metric] = pd.to_numeric(df[metric], errors='coerce')\n",
    "    asd_data = filter_sample_md(df, [('SampleType', sample_type), ('Group', 'autism')])\n",
    "    asd_data = asd_data.sort_values(by='week')\n",
    "    ax = sns.boxplot(data=asd_data, x='week', y=metric, color='white')\n",
    "    ax = sns.stripplot(data=asd_data, x='week', y=metric, hue=hue, palette=palette)\n",
    "    control_y = np.median(control_metric(df, sample_type, metric=metric))\n",
    "    donor_y = np.median(donor_metric(df, metric=metric))\n",
    "    x0 = np.min(df['week']) - 1\n",
    "    x1 = np.max(df['week']) + 1\n",
    "    if not hide_control_baseline:\n",
    "        ax.plot([x0, x1], [control_y, control_y],\n",
    "                color=palette['neurotypical'], linestyle='--', label='neurotypical (median)')\n",
    "    if not hide_donor_baseline:\n",
    "        ax.plot([x0, x1], [donor_y, donor_y],\n",
    "            color=palette['donor'], linestyle='--', label='donor (median)')\n",
    "    ax.legend(bbox_to_anchor=(1.05, 1), loc=2, borderaxespad=0.)\n",
    "    return ax\n",
    "\n",
    "alphas = [(0.001, '***'), (0.01, '**'), (0.05, '*')]\n",
    "\n",
    "def get_sig_text(p, alphas, null_text=\"\"):\n",
    "    if np.isnan(p):\n",
    "        return null_text\n",
    "    alphas.sort()\n",
    "    if p >= alphas[-1][0]:\n",
    "        return 'ns'\n",
    "    sorted_location = bisect.bisect([e[0] for e in alphas], p)\n",
    "    return alphas[sorted_location][1]\n",
    "\n",
    "def plot_engraftment_data(sample_md, sample_type, metric, hue=None, alphas=alphas, one_tailed=True):\n",
    "    ax = plot_week_data(sample_md, sample_type, metric, hue, hide_donor_baseline=True)\n",
    "    stats = tabulate_week_to_week0_paired_stats(sample_md, sample_type, metric)\n",
    "    ymax = ax.get_ylim()[1]\n",
    "    stats.sort_index()\n",
    "    for i, w in enumerate(stats.index):\n",
    "        t, p = stats['t'][w], stats['p-value'][w]\n",
    "        if one_tailed and t < 0.0:\n",
    "            p = p/2.\n",
    "        sig_text = get_sig_text(p, alphas)\n",
    "        ax.text(i, 0.98*ymax, sig_text, ha='center',va='center')\n",
    "    return ax\n",
    "\n",
    "# Paired t-test: change in distance to donor from time zero is different than zero \n",
    "# (positive t means more different than donor, negative t means more similar to donor)\n",
    "def tabulate_week_to_week0_paired_stats(df, sample_type, metric):\n",
    "    asd_data = filter_sample_md(df, [('SampleType', sample_type), ('Group', 'autism')])\n",
    "    results = []\n",
    "    asd_data['week'] = pd.to_numeric(asd_data['week'], errors='coerce')\n",
    "    asd_data = asd_data.sort_values(by='week')\n",
    "    weeks = asd_data['week'].unique()\n",
    "    for i in weeks:\n",
    "        g = asd_data[np.logical_or(asd_data['week'] == 0, asd_data['week'] == i)].groupby('SubjectID')\n",
    "        paired_diffs = g.diff()[metric].dropna()\n",
    "        t, p = scipy.stats.ttest_1samp(paired_diffs, popmean=0)\n",
    "        results.append((len(paired_diffs), np.median(paired_diffs), t, p))\n",
    "    return pd.DataFrame(results, index=pd.Index(weeks, name='week'),\n",
    "                        columns=['n', metric, 't', 'p-value'])\n",
    "\n",
    "# two sample t-test: does ASD data at each week differ significantly from \n",
    "# the control group? \n",
    "def tabulate_week_to_control_stats(df, sample_type, metric):\n",
    "    control_week0 = control_metric(df, sample_type, metric=metric)\n",
    "    asd_data = filter_sample_md(df, [('SampleType', sample_type), ('Group', 'autism')])\n",
    "    results = []\n",
    "    asd_data['week'] = pd.to_numeric(asd_data['week'], errors='coerce')\n",
    "    asd_data = asd_data.sort_values(by='week')\n",
    "    weeks = asd_data['week'].unique()\n",
    "    for i in weeks:\n",
    "        weeki = asd_data[metric][asd_data['week'] == i].dropna()\n",
    "        t, p = scipy.stats.ttest_ind(weeki, control_week0, equal_var=False)\n",
    "        results.append((len(weeki), np.median(weeki), t, p))\n",
    "    return pd.DataFrame(results, index=pd.Index(weeks, name='week'),\n",
    "                        columns=['n', metric, 't', 'p-value'])"
   ]
  },
  {
   "cell_type": "code",
   "execution_count": 7,
   "metadata": {
    "collapsed": false
   },
   "outputs": [
    {
     "data": {
      "text/plain": [
       "{'BBT2014-00029': '6519888d.bb69.495b.b4b8.07d0d4333455',\n",
       " 'BBT2014-00035': '8d2746d9.68e2.42e3.acfc.092603ad6ec1',\n",
       " 'BBT2014-00036': '2756472a.03f4.41da.8564.1d7538f949c6',\n",
       " 'BBT2014-00037': 'b986755d.b15a.4ad4.b6a2.0c7cdd9b8ced',\n",
       " 'BBT2014-00038': '78ff0b74.3d7e.4ed5.8c2d.a5f77b793718',\n",
       " 'MD2014-00002': 'ab7ea93a.ebce.4ecf.a56d.01441d5605b3',\n",
       " 'MD2014-00003': '2ce1e761.4f19.4236.a6a5.49ac820af545'}"
      ]
     },
     "execution_count": 7,
     "metadata": {},
     "output_type": "execute_result"
    }
   ],
   "source": [
    "get_donor_sids(sample_md)"
   ]
  },
  {
   "cell_type": "code",
   "execution_count": 8,
   "metadata": {
    "collapsed": false
   },
   "outputs": [],
   "source": [
    "sample_md = add_distance_to_donor(sample_md, uu_dm, metric_name='unweighted UniFrac')\n",
    "sample_md = add_distance_to_donor(sample_md, wu_dm, metric_name='weighted UniFrac')"
   ]
  },
  {
   "cell_type": "markdown",
   "metadata": {},
   "source": [
    "## Change with time: swab"
   ]
  },
  {
   "cell_type": "code",
   "execution_count": 9,
   "metadata": {
    "collapsed": false
   },
   "outputs": [
    {
     "data": {
      "text/plain": [
       "<matplotlib.axes._subplots.AxesSubplot at 0x10ba15160>"
      ]
     },
     "execution_count": 9,
     "metadata": {},
     "output_type": "execute_result"
    },
    {
     "data": {
      "image/png": "[encoded data removed]",
      "text/plain": [
       "<matplotlib.figure.Figure at 0x10b9df7f0>"
      ]
     },
     "metadata": {},
     "output_type": "display_data"
    }
   ],
   "source": [
    "plot_week_data(sample_md, sample_type='swab',\n",
    "               metric='FaithPD-5720', hue='Responder')"
   ]
  },
  {
   "cell_type": "code",
   "execution_count": null,
   "metadata": {
    "collapsed": false
   },
   "outputs": [],
   "source": [
    "plot_week_data(sample_md, sample_type='swab',\n",
    "               metric='Derep-UnweightedUniFrac-PC1', hue='Responder')"
   ]
  },
  {
   "cell_type": "code",
   "execution_count": null,
   "metadata": {
    "collapsed": false
   },
   "outputs": [],
   "source": [
    "plot_week_data(sample_md, sample_type='swab',\n",
    "               metric='Derep-WeightedUniFrac-PC1', hue='Responder')"
   ]
  },
  {
   "cell_type": "markdown",
   "metadata": {},
   "source": [
    "## Change with time: stool"
   ]
  },
  {
   "cell_type": "code",
   "execution_count": 10,
   "metadata": {
    "collapsed": false
   },
   "outputs": [
    {
     "data": {
      "text/plain": [
       "<matplotlib.axes._subplots.AxesSubplot at 0x10c195518>"
      ]
     },
     "execution_count": 10,
     "metadata": {},
     "output_type": "execute_result"
    },
    {
     "data": {
      "image/png": "[encoded data removed]",
      "text/plain": [
       "<matplotlib.figure.Figure at 0x10c1d8240>"
      ]
     },
     "metadata": {},
     "output_type": "display_data"
    }
   ],
   "source": [
    "plot_week_data(sample_md, sample_type='stool',\n",
    "               metric='FaithPD-5720', hue='Responder')"
   ]
  },
  {
   "cell_type": "code",
   "execution_count": 11,
   "metadata": {
    "collapsed": false
   },
   "outputs": [
    {
     "name": "stderr",
     "output_type": "stream",
     "text": [
      "/Users/caporaso/miniconda3/envs/q2d2/lib/python3.5/site-packages/numpy/core/_methods.py:59: RuntimeWarning: Mean of empty slice.\n",
      "  warnings.warn(\"Mean of empty slice.\", RuntimeWarning)\n",
      "/Users/caporaso/miniconda3/envs/q2d2/lib/python3.5/site-packages/numpy/core/_methods.py:82: RuntimeWarning: Degrees of freedom <= 0 for slice\n",
      "  warnings.warn(\"Degrees of freedom <= 0 for slice\", RuntimeWarning)\n"
     ]
    },
    {
     "data": {
      "text/html": [
       "<div>\n",
       "<table border=\"1\" class=\"dataframe\">\n",
       "  <thead>\n",
       "    <tr style=\"text-align: right;\">\n",
       "      <th></th>\n",
       "      <th>n</th>\n",
       "      <th>FaithPD-5720</th>\n",
       "      <th>t</th>\n",
       "      <th>p-value</th>\n",
       "    </tr>\n",
       "    <tr>\n",
       "      <th>week</th>\n",
       "      <th></th>\n",
       "      <th></th>\n",
       "      <th></th>\n",
       "      <th></th>\n",
       "    </tr>\n",
       "  </thead>\n",
       "  <tbody>\n",
       "    <tr>\n",
       "      <th>0</th>\n",
       "      <td>0</td>\n",
       "      <td>NaN</td>\n",
       "      <td>NaN</td>\n",
       "      <td>NaN</td>\n",
       "    </tr>\n",
       "    <tr>\n",
       "      <th>3</th>\n",
       "      <td>15</td>\n",
       "      <td>-0.838176</td>\n",
       "      <td>0.014617</td>\n",
       "      <td>0.988544</td>\n",
       "    </tr>\n",
       "    <tr>\n",
       "      <th>10</th>\n",
       "      <td>16</td>\n",
       "      <td>6.601795</td>\n",
       "      <td>2.949345</td>\n",
       "      <td>0.009947</td>\n",
       "    </tr>\n",
       "    <tr>\n",
       "      <th>18</th>\n",
       "      <td>16</td>\n",
       "      <td>8.785484</td>\n",
       "      <td>5.335455</td>\n",
       "      <td>0.000083</td>\n",
       "    </tr>\n",
       "  </tbody>\n",
       "</table>\n",
       "</div>"
      ],
      "text/plain": [
       "       n  FaithPD-5720         t   p-value\n",
       "week                                      \n",
       "0      0           NaN       NaN       NaN\n",
       "3     15     -0.838176  0.014617  0.988544\n",
       "10    16      6.601795  2.949345  0.009947\n",
       "18    16      8.785484  5.335455  0.000083"
      ]
     },
     "execution_count": 11,
     "metadata": {},
     "output_type": "execute_result"
    }
   ],
   "source": [
    "tabulate_week_to_week0_paired_stats(sample_md, sample_type='stool',\n",
    "                                    metric='FaithPD-5720')"
   ]
  },
  {
   "cell_type": "code",
   "execution_count": 12,
   "metadata": {
    "collapsed": false
   },
   "outputs": [
    {
     "data": {
      "text/html": [
       "<div>\n",
       "<table border=\"1\" class=\"dataframe\">\n",
       "  <thead>\n",
       "    <tr style=\"text-align: right;\">\n",
       "      <th></th>\n",
       "      <th>n</th>\n",
       "      <th>FaithPD-5720</th>\n",
       "      <th>t</th>\n",
       "      <th>p-value</th>\n",
       "    </tr>\n",
       "    <tr>\n",
       "      <th>week</th>\n",
       "      <th></th>\n",
       "      <th></th>\n",
       "      <th></th>\n",
       "      <th></th>\n",
       "    </tr>\n",
       "  </thead>\n",
       "  <tbody>\n",
       "    <tr>\n",
       "      <th>0</th>\n",
       "      <td>17</td>\n",
       "      <td>49.178465</td>\n",
       "      <td>-2.317556</td>\n",
       "      <td>0.026421</td>\n",
       "    </tr>\n",
       "    <tr>\n",
       "      <th>3</th>\n",
       "      <td>16</td>\n",
       "      <td>49.796581</td>\n",
       "      <td>-2.277617</td>\n",
       "      <td>0.029150</td>\n",
       "    </tr>\n",
       "    <tr>\n",
       "      <th>10</th>\n",
       "      <td>17</td>\n",
       "      <td>56.008871</td>\n",
       "      <td>-0.565709</td>\n",
       "      <td>0.575320</td>\n",
       "    </tr>\n",
       "    <tr>\n",
       "      <th>18</th>\n",
       "      <td>17</td>\n",
       "      <td>59.069233</td>\n",
       "      <td>0.394351</td>\n",
       "      <td>0.696193</td>\n",
       "    </tr>\n",
       "  </tbody>\n",
       "</table>\n",
       "</div>"
      ],
      "text/plain": [
       "       n  FaithPD-5720         t   p-value\n",
       "week                                      \n",
       "0     17     49.178465 -2.317556  0.026421\n",
       "3     16     49.796581 -2.277617  0.029150\n",
       "10    17     56.008871 -0.565709  0.575320\n",
       "18    17     59.069233  0.394351  0.696193"
      ]
     },
     "execution_count": 12,
     "metadata": {},
     "output_type": "execute_result"
    }
   ],
   "source": [
    "tabulate_week_to_control_stats(sample_md, sample_type='stool',\n",
    "                               metric='FaithPD-5720')"
   ]
  },
  {
   "cell_type": "code",
   "execution_count": null,
   "metadata": {
    "collapsed": false
   },
   "outputs": [],
   "source": [
    "plot_week_data(sample_md, sample_type='stool',\n",
    "               metric='Derep-UnweightedUniFrac-PC1', hue='Responder')"
   ]
  },
  {
   "cell_type": "code",
   "execution_count": null,
   "metadata": {
    "collapsed": false
   },
   "outputs": [],
   "source": [
    "plot_week_data(sample_md, sample_type='stool',\n",
    "               metric='Derep-WeightedUniFrac-PC1', hue='Responder')"
   ]
  },
  {
   "cell_type": "code",
   "execution_count": null,
   "metadata": {
    "collapsed": false
   },
   "outputs": [],
   "source": [
    "plot_week_data(sample_md, sample_type='stool',\n",
    "               metric='Bacteroides', hue='Responder')"
   ]
  },
  {
   "cell_type": "code",
   "execution_count": null,
   "metadata": {
    "collapsed": false
   },
   "outputs": [],
   "source": [
    "tabulate_week_to_control_stats(sample_md, sample_type='stool',\n",
    "               metric='Bacteroides')"
   ]
  },
  {
   "cell_type": "markdown",
   "metadata": {},
   "source": [
    "## Engraftment: Swab"
   ]
  },
  {
   "cell_type": "code",
   "execution_count": 13,
   "metadata": {
    "collapsed": false
   },
   "outputs": [
    {
     "name": "stderr",
     "output_type": "stream",
     "text": [
      "/Users/caporaso/miniconda3/envs/q2d2/lib/python3.5/site-packages/numpy/core/_methods.py:59: RuntimeWarning: Mean of empty slice.\n",
      "  warnings.warn(\"Mean of empty slice.\", RuntimeWarning)\n",
      "/Users/caporaso/miniconda3/envs/q2d2/lib/python3.5/site-packages/numpy/core/_methods.py:82: RuntimeWarning: Degrees of freedom <= 0 for slice\n",
      "  warnings.warn(\"Degrees of freedom <= 0 for slice\", RuntimeWarning)\n"
     ]
    },
    {
     "data": {
      "text/plain": [
       "<matplotlib.axes._subplots.AxesSubplot at 0x10c22f0f0>"
      ]
     },
     "execution_count": 13,
     "metadata": {},
     "output_type": "execute_result"
    },
    {
     "data": {
      "image/png": "[encoded data removed]",
      "text/plain": [
       "<matplotlib.figure.Figure at 0x10c237668>"
      ]
     },
     "metadata": {},
     "output_type": "display_data"
    }
   ],
   "source": [
    "plot_engraftment_data(sample_md, sample_type='swab',\n",
    "                      metric='unweighted UniFrac to initial donor', hue='Responder')"
   ]
  },
  {
   "cell_type": "code",
   "execution_count": 14,
   "metadata": {
    "collapsed": false
   },
   "outputs": [
    {
     "name": "stderr",
     "output_type": "stream",
     "text": [
      "/Users/caporaso/miniconda3/envs/q2d2/lib/python3.5/site-packages/numpy/core/_methods.py:59: RuntimeWarning: Mean of empty slice.\n",
      "  warnings.warn(\"Mean of empty slice.\", RuntimeWarning)\n",
      "/Users/caporaso/miniconda3/envs/q2d2/lib/python3.5/site-packages/numpy/core/_methods.py:82: RuntimeWarning: Degrees of freedom <= 0 for slice\n",
      "  warnings.warn(\"Degrees of freedom <= 0 for slice\", RuntimeWarning)\n"
     ]
    },
    {
     "data": {
      "text/plain": [
       "<matplotlib.axes._subplots.AxesSubplot at 0x10c6c4048>"
      ]
     },
     "execution_count": 14,
     "metadata": {},
     "output_type": "execute_result"
    },
    {
     "data": {
      "image/png": "[encoded data removed]",
      "text/plain": [
       "<matplotlib.figure.Figure at 0x10c2c5c50>"
      ]
     },
     "metadata": {},
     "output_type": "display_data"
    }
   ],
   "source": [
    "plot_engraftment_data(sample_md, sample_type='swab',\n",
    "                      metric='unweighted UniFrac to most relevant donor', hue='Responder')"
   ]
  },
  {
   "cell_type": "markdown",
   "metadata": {},
   "source": [
    "## Engraftment: stool"
   ]
  },
  {
   "cell_type": "code",
   "execution_count": 15,
   "metadata": {
    "collapsed": false
   },
   "outputs": [
    {
     "name": "stderr",
     "output_type": "stream",
     "text": [
      "/Users/caporaso/miniconda3/envs/q2d2/lib/python3.5/site-packages/numpy/core/_methods.py:59: RuntimeWarning: Mean of empty slice.\n",
      "  warnings.warn(\"Mean of empty slice.\", RuntimeWarning)\n",
      "/Users/caporaso/miniconda3/envs/q2d2/lib/python3.5/site-packages/numpy/core/_methods.py:82: RuntimeWarning: Degrees of freedom <= 0 for slice\n",
      "  warnings.warn(\"Degrees of freedom <= 0 for slice\", RuntimeWarning)\n"
     ]
    },
    {
     "data": {
      "text/plain": [
       "<matplotlib.axes._subplots.AxesSubplot at 0x10c8c0278>"
      ]
     },
     "execution_count": 15,
     "metadata": {},
     "output_type": "execute_result"
    },
    {
     "data": {
      "image/png": "[encoded data removed]",
      "text/plain": [
       "<matplotlib.figure.Figure at 0x10c88ec18>"
      ]
     },
     "metadata": {},
     "output_type": "display_data"
    }
   ],
   "source": [
    "plot_engraftment_data(sample_md, sample_type='stool',\n",
    "                      metric='unweighted UniFrac to initial donor', hue='Responder')\n",
    "# tabulate_week_to_week0_paired_stats(sample_md, 'stool',\n",
    "#                                    'unweighted UniFrac to initial donor')"
   ]
  },
  {
   "cell_type": "code",
   "execution_count": 16,
   "metadata": {
    "collapsed": false
   },
   "outputs": [
    {
     "name": "stderr",
     "output_type": "stream",
     "text": [
      "/Users/caporaso/miniconda3/envs/q2d2/lib/python3.5/site-packages/numpy/core/_methods.py:59: RuntimeWarning: Mean of empty slice.\n",
      "  warnings.warn(\"Mean of empty slice.\", RuntimeWarning)\n",
      "/Users/caporaso/miniconda3/envs/q2d2/lib/python3.5/site-packages/numpy/core/_methods.py:82: RuntimeWarning: Degrees of freedom <= 0 for slice\n",
      "  warnings.warn(\"Degrees of freedom <= 0 for slice\", RuntimeWarning)\n"
     ]
    },
    {
     "data": {
      "text/plain": [
       "<matplotlib.axes._subplots.AxesSubplot at 0x10cc28b38>"
      ]
     },
     "execution_count": 16,
     "metadata": {},
     "output_type": "execute_result"
    },
    {
     "data": {
      "image/png": "[encoded data removed]",
      "text/plain": [
       "<matplotlib.figure.Figure at 0x10cb623c8>"
      ]
     },
     "metadata": {},
     "output_type": "display_data"
    }
   ],
   "source": [
    "plot_engraftment_data(sample_md, sample_type='stool',\n",
    "               metric='unweighted UniFrac to most relevant donor', hue='Responder')\n",
    "# tabulate_week_to_week0_paired_stats(sample_md, 'stool',\n",
    "#                                    'unweighted UniFrac to most relevant donor')"
   ]
  },
  {
   "cell_type": "markdown",
   "metadata": {
    "collapsed": true
   },
   "source": [
    "## old..."
   ]
  },
  {
   "cell_type": "markdown",
   "metadata": {},
   "source": [
    "```\n",
    "def engraftment_data(sample_md, dm, group_rules=None, verbose=False):\n",
    "    subject_data = []\n",
    "    group_sids = filter_sample_md(sample_md, group_rules).index\n",
    "    donor_sids = get_donor_sids(sample_md)\n",
    "    for sid in group_sids:\n",
    "        subject_id = sample_md['SubjectID'][sid]\n",
    "        week = sample_md['Week'][sid]\n",
    "        responder = sample_md['Responder'][sid]\n",
    "        faith_pd = sample_md['Dererp-PD_whole_tree_even_10000_alpha'][sid]\n",
    "        unweighted_unifrac_pc1 = sample_md['Derep-UnweightedUniFrac-PC1'][sid]\n",
    "        weighted_unifrac_pc1 = sample_md['Derep-WeightedUniFrac-PC1'][sid]\n",
    "        \n",
    "        try:\n",
    "            faith_pd = float(faith_pd)\n",
    "        except ValueError:\n",
    "            if verbose: print('Non-floatable faith pd (%s) for %s' % (faith_pd, sid))\n",
    "            faith_pd = np.nan\n",
    "\n",
    "        try:\n",
    "            unweighted_unifrac_pc1 = float(unweighted_unifrac_pc1)\n",
    "        except ValueError:\n",
    "            if verbose: print('Non-floatable unweighted_unifrac_pc1 (%s) for %s' % (unweighted_unifrac_pc1, sid))\n",
    "            unweighted_unifrac_pc1 = np.nan\n",
    "\n",
    "        try:\n",
    "            weighted_unifrac_pc1 = float(weighted_unifrac_pc1)\n",
    "        except ValueError:\n",
    "            if verbose: print('Non-floatable weighted_unifrac_pc1 (%s) for %s' % (weighted_unifrac_pc1, sid))\n",
    "            weighted_unifrac_pc1 = np.nan\n",
    "            \n",
    "        try:\n",
    "            week = int(week)\n",
    "        except ValueError:\n",
    "            if verbose: print('Non-intable week (%s) for %s' % (week, sid))\n",
    "            continue\n",
    "            \n",
    "        initial_donor = sample_md['BBT_Donor_ID'][sid]\n",
    "        try:\n",
    "            initial_donor_sid = donor_sids[initial_donor]\n",
    "        except KeyError:\n",
    "            if verbose: print('Unknown initial donor (%s) for %s' % (initial_donor, sid))\n",
    "            continue\n",
    "        initial_donor_faith_pd = sample_md['Dererp-PD_whole_tree_even_10000_alpha'][initial_donor_sid]\n",
    "            \n",
    "        try:\n",
    "            distance_to_initial_donor = dm[initial_donor_sid, sid]\n",
    "        except MissingIDError:\n",
    "            if verbose: print('Missing distance for sample %s' % sid)\n",
    "            distance_to_initial_donor = np.nan\n",
    "            \n",
    "        try:\n",
    "            initial_donor_faith_pd = float(initial_donor_faith_pd)\n",
    "        except ValueError:\n",
    "            if verbose: print('Non-floatable Donor Faith PD (%s) for %s' % (initial_donor_faith_pd, initial_donor_sid))\n",
    "            initial_donor_faith_pd = np.nan\n",
    "        \n",
    "        # most relevant donor is either the most recent, or the initial donor if pre-FMT\n",
    "        # (which helps to evaluate initial change)\n",
    "        most_relevant_donor = sample_md['MostRecentDonorID'][sid]\n",
    "        if most_relevant_donor == 'pre-treatment':\n",
    "            most_relevant_donor = sample_md['BBT_Donor_ID'][sid]\n",
    "\n",
    "        try:\n",
    "            most_relevant_donor_sid = donor_sids[most_relevant_donor]\n",
    "        except KeyError:\n",
    "            if verbose: print('Unknown most relevant donor (%s) for %s' % (most_relevant_donor, sid))\n",
    "            most_relevant_donor_sid = None\n",
    "        \n",
    "        if most_relevant_donor_sid is not None:\n",
    "            try:\n",
    "                distance_to_most_relevant_donor = dm[most_relevant_donor_sid, sid]\n",
    "            except MissingIDError:\n",
    "                if verbose: print('Missing distance for sample %s' % sid)\n",
    "                distance_to_most_relevant_donor = np.nan\n",
    "        else:\n",
    "            distance_to_most_relevant_donor = np.nan\n",
    "\n",
    "        subject_data.append((subject_id, week, distance_to_initial_donor, responder, faith_pd, \n",
    "                             initial_donor_faith_pd, distance_to_most_relevant_donor, unweighted_unifrac_pc1,\n",
    "                             weighted_unifrac_pc1))\n",
    "    result = pd.DataFrame(subject_data, columns=['subject', 'week', 'distance to initial donor', 'responder', \n",
    "                                                 'faith pd', 'initial donor faith pd', \n",
    "                                                 'distance to most relevant donor', 'unweighted unifrac pc1',\n",
    "                                                 'weighted unifrac pc1'])\n",
    "    return result\n",
    "```"
   ]
  },
  {
   "cell_type": "markdown",
   "metadata": {},
   "source": [
    "```\n",
    "\n",
    "def tabulate_week_to_week0_stats(df, metric):\n",
    "    results = []\n",
    "    df['Week'] = pd.to_numeric(df['Week'], errors='coerce')\n",
    "    week0 = df[metric][df['Week'] == 0].dropna()\n",
    "    week0_n = len(week0)\n",
    "    weeks = sorted(set(df['Week']))\n",
    "    for i in weeks:\n",
    "        weeki = df[metric][df['Week'] == i].dropna()\n",
    "        t, p = scipy.stats.ttest_ind(week0, weeki, equal_var=False)\n",
    "        results.append((len(weeki), np.median(weeki), t, p))\n",
    "    return pd.DataFrame(results, index=pd.Index(weeks, name='Week'),\n",
    "                        columns=['n', 'median %s' % metric, 't (to Week 0)', 'p-value (to Week 0)'])\n",
    "\n",
    "def tabulate_week_to_value_stats(df, metric, value):\n",
    "    results = []\n",
    "    weeks = sorted(set(df['week']))\n",
    "    for i in weeks:\n",
    "        weeki = df[metric][df['week'] == i].dropna()\n",
    "        t, p = scipy.stats.ttest_1samp(weeki, popmean=value)\n",
    "        results.append((len(weeki), np.median(weeki), t, p))\n",
    "    return pd.DataFrame(results, index=pd.Index(weeks, name='week'),\n",
    "                        columns=['n', 'median %s' % metric, 't', 'p-value'])\n",
    "\n",
    "def plot_subject_data(df, y=\"distance to initial donor\", baseline_y=None, hue=None):\n",
    "    ## TODO: Get sharex=True to fill in missing values\n",
    "    ax = sns.FacetGrid(df, col=\"subject\", col_wrap=4,\n",
    "                       hue=hue, palette=palette, sharex=False)\n",
    "    if baseline_y is not None:\n",
    "        x0 = np.min(df['week']) - 1\n",
    "        x1 = np.max(df['week']) + 1\n",
    "        for e in ax.axes:\n",
    "            e.plot([x0, x1], [baseline_y, baseline_y], color=palette['donor'], linestyle='--')\n",
    "    ax = ax.map(sns.pointplot, \"week\", y, scale=.3)\n",
    "    return ax\n",
    "\n",
    "\n",
    "```"
   ]
  },
  {
   "cell_type": "code",
   "execution_count": null,
   "metadata": {
    "collapsed": true
   },
   "outputs": [],
   "source": []
  }
 ],
 "metadata": {
  "kernelspec": {
   "display_name": "Python 3",
   "language": "python",
   "name": "python3"
  },
  "language_info": {
   "codemirror_mode": {
    "name": "ipython",
    "version": 3
   },
   "file_extension": ".py",
   "mimetype": "text/x-python",
   "name": "python",
   "nbconvert_exporter": "python",
   "pygments_lexer": "ipython3",
   "version": "3.5.1"
  }
 },
 "nbformat": 4,
 "nbformat_minor": 0
}
