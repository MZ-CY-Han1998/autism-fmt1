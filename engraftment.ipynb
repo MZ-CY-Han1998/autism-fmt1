{
 "cells": [
  {
   "cell_type": "code",
   "execution_count": null,
   "metadata": {
    "collapsed": false
   },
   "outputs": [],
   "source": [
    "import pandas as pd\n",
    "import numpy as np\n",
    "import seaborn as sns\n",
    "import skbio\n",
    "import os\n",
    "\n",
    "import asd\n",
    "%matplotlib inline"
   ]
  },
  {
   "cell_type": "code",
   "execution_count": null,
   "metadata": {
    "collapsed": false
   },
   "outputs": [],
   "source": [
    "data_dir = \"../microbiome-data/run1-4/vsearch-100/cd_even5721/\"\n",
    "uu_fp = os.path.join(data_dir, \"bdiv_even5721/unweighted_unifrac_dm.txt\")\n",
    "wu_fp = os.path.join(data_dir, \"bdiv_even5721/weighted_unifrac_dm.txt\")\n",
    "faithpd_fp = os.path.join(data_dir, \"arare_max5721/alpha_div_collated/PD_whole_tree.txt\")\n",
    "sample_md_fp = 'combined-map.tsv'"
   ]
  },
  {
   "cell_type": "code",
   "execution_count": null,
   "metadata": {
    "collapsed": false
   },
   "outputs": [],
   "source": [
    "!md5 $uu_fp\n",
    "!md5 $wu_fp\n",
    "!md5 $faithpd_fp"
   ]
  },
  {
   "cell_type": "code",
   "execution_count": null,
   "metadata": {
    "collapsed": false
   },
   "outputs": [],
   "source": [
    "sample_md = pd.read_csv(sample_md_fp, sep='\\t', index_col=0, dtype=object)\n",
    "wu_dm = skbio.DistanceMatrix.read(wu_fp)\n",
    "uu_dm = skbio.DistanceMatrix.read(uu_fp)"
   ]
  },
  {
   "cell_type": "code",
   "execution_count": null,
   "metadata": {
    "collapsed": false
   },
   "outputs": [],
   "source": [
    "faithpd = pd.read_csv(faithpd_fp, sep='\\t')"
   ]
  },
  {
   "cell_type": "code",
   "execution_count": null,
   "metadata": {
    "collapsed": false
   },
   "outputs": [],
   "source": [
    "asd.get_donor_sids(sample_md)"
   ]
  },
  {
   "cell_type": "code",
   "execution_count": null,
   "metadata": {
    "collapsed": false
   },
   "outputs": [],
   "source": [
    "sample_md = asd.add_distance_to_donor(sample_md, uu_dm, metric_name='unweighted UniFrac')\n",
    "sample_md = asd.add_distance_to_donor(sample_md, wu_dm, metric_name='weighted UniFrac')"
   ]
  },
  {
   "cell_type": "code",
   "execution_count": null,
   "metadata": {
    "collapsed": false
   },
   "outputs": [],
   "source": [
    "sample_md = asd.add_alpha_diversity(sample_md, faithpd, 'Faith PD')"
   ]
  },
  {
   "cell_type": "code",
   "execution_count": null,
   "metadata": {
    "collapsed": false
   },
   "outputs": [],
   "source": [
    "sample_md"
   ]
  },
  {
   "cell_type": "markdown",
   "metadata": {},
   "source": [
    "## Change with time: swab"
   ]
  },
  {
   "cell_type": "code",
   "execution_count": null,
   "metadata": {
    "collapsed": false
   },
   "outputs": [],
   "source": [
    "asd.plot_week_data_with_stats(sample_md, sample_type='swab', metric='Faith PD', hue='responder')"
   ]
  },
  {
   "cell_type": "markdown",
   "metadata": {},
   "source": [
    "## Change with time: stool"
   ]
  },
  {
   "cell_type": "code",
   "execution_count": null,
   "metadata": {
    "collapsed": false
   },
   "outputs": [],
   "source": [
    "asd.plot_week_data_with_stats(sample_md, sample_type='stool',\n",
    "               metric='Faith PD', hue='responder')"
   ]
  },
  {
   "cell_type": "code",
   "execution_count": null,
   "metadata": {
    "collapsed": false
   },
   "outputs": [],
   "source": [
    "asd.plot_week_data_with_stats(sample_md, sample_type='stool',\n",
    "               metric='Faith PD', hue='rectal_oral')"
   ]
  },
  {
   "cell_type": "code",
   "execution_count": null,
   "metadata": {
    "collapsed": false
   },
   "outputs": [],
   "source": [
    "asd.tabulate_week_to_week0_paired_stats(sample_md, sample_type='stool',\n",
    "                                    metric='Faith PD')"
   ]
  },
  {
   "cell_type": "code",
   "execution_count": null,
   "metadata": {
    "collapsed": false
   },
   "outputs": [],
   "source": [
    "asd.tabulate_week_to_control_stats(sample_md, sample_type='stool',\n",
    "                               metric='Faith PD')"
   ]
  },
  {
   "cell_type": "markdown",
   "metadata": {},
   "source": [
    "## Engraftment: Swab"
   ]
  },
  {
   "cell_type": "code",
   "execution_count": null,
   "metadata": {
    "collapsed": false
   },
   "outputs": [],
   "source": [
    "asd.plot_week_data_with_stats(sample_md, sample_type='swab',\n",
    "                          metric='unweighted UniFrac to initial donor', hue='responder', one_tailed=True,\n",
    "                          hide_donor_baseline=True)"
   ]
  },
  {
   "cell_type": "code",
   "execution_count": null,
   "metadata": {
    "collapsed": false
   },
   "outputs": [],
   "source": [
    "asd.plot_week_data_with_stats(sample_md, sample_type='swab',\n",
    "                          metric='unweighted UniFrac to most relevant donor', hue='responder', one_tailed=True,\n",
    "                          hide_donor_baseline=True)"
   ]
  },
  {
   "cell_type": "code",
   "execution_count": null,
   "metadata": {
    "collapsed": false
   },
   "outputs": [],
   "source": [
    "asd.plot_week_data_with_stats(sample_md, sample_type='swab',\n",
    "                          metric='unweighted UniFrac to most relevant donor', hue='rectal_oral', one_tailed=True,\n",
    "                          hide_donor_baseline=True)"
   ]
  },
  {
   "cell_type": "markdown",
   "metadata": {},
   "source": [
    "## Engraftment: stool"
   ]
  },
  {
   "cell_type": "code",
   "execution_count": null,
   "metadata": {
    "collapsed": false
   },
   "outputs": [],
   "source": [
    "asd.plot_week_data_with_stats(sample_md, sample_type='stool',\n",
    "                          metric='unweighted UniFrac to initial donor', hue='responder', one_tailed=True,\n",
    "                          hide_donor_baseline=True)"
   ]
  },
  {
   "cell_type": "code",
   "execution_count": null,
   "metadata": {
    "collapsed": false
   },
   "outputs": [],
   "source": [
    "asd.plot_week_data_with_stats(sample_md, sample_type='stool',\n",
    "                          metric='unweighted UniFrac to most relevant donor', hue='responder', one_tailed=True,\n",
    "                          hide_donor_baseline=True)"
   ]
  },
  {
   "cell_type": "code",
   "execution_count": null,
   "metadata": {
    "collapsed": false
   },
   "outputs": [],
   "source": [
    "asd.plot_week_data_with_stats(sample_md, sample_type='stool',\n",
    "                          metric='unweighted UniFrac to most relevant donor', hue='rectal_oral', one_tailed=True,\n",
    "                          hide_donor_baseline=True)"
   ]
  },
  {
   "cell_type": "code",
   "execution_count": null,
   "metadata": {
    "collapsed": false
   },
   "outputs": [],
   "source": [
    "asd.plot_week_data_with_stats(sample_md, sample_type='stool',\n",
    "                          metric='weighted UniFrac to most relevant donor', hue='responder', one_tailed=False,\n",
    "                          hide_donor_baseline=True)"
   ]
  },
  {
   "cell_type": "code",
   "execution_count": null,
   "metadata": {
    "collapsed": false
   },
   "outputs": [],
   "source": [
    "asd.plot_week_data_with_stats(sample_md, sample_type='swab',\n",
    "                          metric='weighted UniFrac to most relevant donor', hue='responder', one_tailed=False,\n",
    "                          hide_donor_baseline=True)"
   ]
  },
  {
   "cell_type": "code",
   "execution_count": null,
   "metadata": {
    "collapsed": true
   },
   "outputs": [],
   "source": []
  }
 ],
 "metadata": {
  "kernelspec": {
   "display_name": "Python 3",
   "language": "python",
   "name": "python3"
  },
  "language_info": {
   "codemirror_mode": {
    "name": "ipython",
    "version": 3
   },
   "file_extension": ".py",
   "mimetype": "text/x-python",
   "name": "python",
   "nbconvert_exporter": "python",
   "pygments_lexer": "ipython3",
   "version": "3.5.0"
  }
 },
 "nbformat": 4,
 "nbformat_minor": 0
}
