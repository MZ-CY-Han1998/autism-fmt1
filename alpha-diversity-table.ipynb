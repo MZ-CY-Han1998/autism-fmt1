{
 "cells": [
  {
   "cell_type": "code",
   "execution_count": 3,
   "metadata": {
    "collapsed": false
   },
   "outputs": [],
   "source": [
    "import pandas as pd\n",
    "import asd\n",
    "\n",
    "sample_md_fp = 'combined-map.tsv'\n",
    "faithpd_fp = \"../microbiome-data/run1-4/vsearch-100/cd_even5721/arare_max5721/alpha_div_collated/PD_whole_tree.txt\"\n",
    "oo_fp = \"../microbiome-data/run1-4/vsearch-100/cd_even5721/arare_max5721/alpha_div_collated/observed_otus.txt\"\n",
    "\n",
    "sample_md = pd.read_csv(sample_md_fp, sep='\\t', index_col=0, dtype=object)\n",
    "faithpd = pd.read_csv(faithpd_fp, sep='\\t')\n",
    "oo = pd.read_csv(oo_fp, sep='\\t')\n",
    "\n",
    "sample_md = asd.add_alpha_diversity(sample_md, faithpd, 'Faith PD')\n",
    "sample_md = asd.add_alpha_diversity(sample_md, oo, 'Observed OTUs')"
   ]
  },
  {
   "cell_type": "code",
   "execution_count": 8,
   "metadata": {
    "collapsed": false
   },
   "outputs": [],
   "source": [
    "sample_md[['Faith PD', 'Observed OTUs']].to_csv('./alpha-diversity-even5721.csv')"
   ]
  },
  {
   "cell_type": "code",
   "execution_count": null,
   "metadata": {
    "collapsed": true
   },
   "outputs": [],
   "source": []
  }
 ],
 "metadata": {
  "kernelspec": {
   "display_name": "Python 3",
   "language": "python",
   "name": "python3"
  },
  "language_info": {
   "codemirror_mode": {
    "name": "ipython",
    "version": 3
   },
   "file_extension": ".py",
   "mimetype": "text/x-python",
   "name": "python",
   "nbconvert_exporter": "python",
   "pygments_lexer": "ipython3",
   "version": "3.5.1"
  }
 },
 "nbformat": 4,
 "nbformat_minor": 0
}
