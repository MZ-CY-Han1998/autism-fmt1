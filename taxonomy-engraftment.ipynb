{
 "cells": [
  {
   "cell_type": "code",
   "execution_count": 1,
   "metadata": {
    "collapsed": false
   },
   "outputs": [],
   "source": [
    "%matplotlib inline\n",
    "import pandas as pd\n",
    "import numpy as np\n",
    "import biom\n",
    "import os\n",
    "import scipy.stats\n",
    "from statsmodels.sandbox.stats.multicomp import fdrcorrection0"
   ]
  },
  {
   "cell_type": "code",
   "execution_count": 2,
   "metadata": {
    "collapsed": false
   },
   "outputs": [],
   "source": [
    "sample_md_fp = 'combined-map.tsv'\n",
    "sample_md = pd.read_csv(sample_md_fp, sep='\\t', index_col=0, dtype=object)\n"
   ]
  },
  {
   "cell_type": "code",
   "execution_count": 3,
   "metadata": {
    "collapsed": false
   },
   "outputs": [],
   "source": [
    "data_dir = \"../microbiome-data/run1-4/vsearch-100/cd_even5721/\"\n",
    "tax_tables = []\n",
    "for level in range(2,7):\n",
    "    l_fp = os.path.join(data_dir, \"taxa_plots/table_mc5721_sorted_L%d.txt\" % level)\n",
    "    l_df = pd.read_csv(l_fp, sep='\\t', skiprows=1, index_col=0)\n",
    "    l_df.index = l_df.index.astype(str)\n",
    "    tax_tables.append(l_df.T)\n",
    "tax_table = pd.concat(tax_tables, axis=1)\n",
    "sample_md = sample_md.merge(tax_table, left_index=True, right_index=True)\n"
   ]
  },
  {
   "cell_type": "code",
   "execution_count": 4,
   "metadata": {
    "collapsed": false
   },
   "outputs": [],
   "source": [
    "from asd import filter_sample_md\n",
    "initial_asd_stool = filter_sample_md(sample_md, includes=[('Group', 'autism'), ('SampleType', 'stool'), \n",
    "                                                          ('time_point', '1'), ('responder', 'Responder')])\n",
    "initial_asd_stool = initial_asd_stool.set_index('SubjectID')\n",
    "\n",
    "final_asd_stool = filter_sample_md(sample_md, includes=[('Group', 'autism'), ('SampleType', 'stool'), \n",
    "                                                        ('time_point', '4'), ('responder', 'Responder')])\n",
    "final_asd_stool = final_asd_stool.set_index('SubjectID')"
   ]
  },
  {
   "cell_type": "code",
   "execution_count": 5,
   "metadata": {
    "collapsed": true
   },
   "outputs": [],
   "source": [
    "donor_stool = filter_sample_md(sample_md, includes=[('SampleType', 'donor-stool')])"
   ]
  },
  {
   "cell_type": "code",
   "execution_count": 6,
   "metadata": {
    "collapsed": false
   },
   "outputs": [
    {
     "name": "stderr",
     "output_type": "stream",
     "text": [
      "/Users/caporaso/miniconda3/envs/q2d2/lib/python3.5/site-packages/ipykernel/__main__.py:26: FutureWarning: sort(columns=....) is deprecated, use sort_values(by=.....)\n"
     ]
    }
   ],
   "source": [
    "_data = []\n",
    "for tax in tax_table.columns:\n",
    "    initial_asd_median = initial_asd_stool[tax].median()\n",
    "    final_asd_median = final_asd_stool[tax].median()\n",
    "    donor_median = donor_stool[tax].median()\n",
    "    if (initial_asd_median < donor_median) and (final_asd_median > initial_asd_median):\n",
    "        t, p = scipy.stats.ttest_1samp(final_asd_stool[tax] - initial_asd_stool[tax], popmean=0)\n",
    "        if t > 0:\n",
    "            p = p/2\n",
    "        else:\n",
    "            p = 1.0\n",
    "        try:\n",
    "            fold_donor_enrichment = donor_median/initial_asd_median\n",
    "            fold_final_enrichment = final_asd_median/initial_asd_median\n",
    "        except ZeroDivisionError:\n",
    "            fold_donor_enrichment = fold_final_enrichment = np.inf\n",
    "        _data.append([tax, fold_donor_enrichment, fold_final_enrichment, donor_median, \n",
    "                      initial_asd_median, final_asd_median, t, p])\n",
    "tax_engraftment_df = pd.DataFrame(_data, columns=['Taxonomy', 'Fold donor enrichment', \n",
    "                                                  'Fold final enrichment',\n",
    "                                                  'Donor median abundance',\n",
    "                                                  'Initial ASD median abundance', \n",
    "                                                  'Final ASD median abundance', 't (one-tailed, one-sample)', \n",
    "                                                  'p-value']).set_index('Taxonomy')\n",
    "tax_engraftment_df['FDR p-value'] = fdrcorrection0(tax_engraftment_df['p-value'])[1]\n",
    "tax_engraftment_df.sort('Fold final enrichment', ascending=False).to_csv('taxonomy-engraftment.csv')"
   ]
  },
  {
   "cell_type": "markdown",
   "metadata": {},
   "source": [
    "The results of this analysis are in a [Google Sheet](https://docs.google.com/spreadsheets/d/1iwU6wQ9JApx7I6H4D53XFDFRu_Yige2HaiC88YkjqW0/edit?usp=sharing)."
   ]
  },
  {
   "cell_type": "code",
   "execution_count": 7,
   "metadata": {
    "collapsed": false
   },
   "outputs": [
    {
     "name": "stderr",
     "output_type": "stream",
     "text": [
      "/Users/caporaso/miniconda3/envs/q2d2/lib/python3.5/site-packages/ipykernel/__main__.py:23: FutureWarning: sort(columns=....) is deprecated, use sort_values(by=.....)\n"
     ]
    }
   ],
   "source": [
    "alpha = 0.01\n",
    "_data = []\n",
    "for tax in tax_table.columns:\n",
    "    initial_asd_median = initial_asd_stool[tax].median()\n",
    "    final_asd_median = final_asd_stool[tax].median()\n",
    "    donor_median = donor_stool[tax].median()\n",
    "    if final_asd_median > 0 or initial_asd_median > 0:\n",
    "        t, p = scipy.stats.ttest_1samp(final_asd_stool[tax] - initial_asd_stool[tax], popmean=0)\n",
    "        try:\n",
    "            fold_donor_enrichment = donor_median/initial_asd_median\n",
    "            fold_final_enrichment = final_asd_median/initial_asd_median\n",
    "        except ZeroDivisionError:\n",
    "            fold_donor_enrichment = fold_final_enrichment = np.inf\n",
    "        _data.append([tax, fold_donor_enrichment, fold_final_enrichment, donor_median, \n",
    "                      initial_asd_median, final_asd_median, t, p])\n",
    "tax_change_df = pd.DataFrame(_data, columns=['Taxonomy', 'Fold donor enrichment', \n",
    "                                                  'Fold final enrichment',\n",
    "                                                  'Donor median abundance',\n",
    "                                                  'Initial ASD median abundance', \n",
    "                                                  'Final ASD median abundance', 't (two-tailed, one-sample)', \n",
    "                                                  'p-value']).set_index('Taxonomy')\n",
    "tax_change_df['FDR p-value'] = fdrcorrection0(tax_change_df['p-value'])[1]\n",
    "tax_change_df.sort('FDR p-value', ascending=True).to_csv('taxonmy-change.csv')"
   ]
  },
  {
   "cell_type": "code",
   "execution_count": null,
   "metadata": {
    "collapsed": true
   },
   "outputs": [],
   "source": []
  }
 ],
 "metadata": {
  "kernelspec": {
   "display_name": "Python 3",
   "language": "python",
   "name": "python3"
  },
  "language_info": {
   "codemirror_mode": {
    "name": "ipython",
    "version": 3
   },
   "file_extension": ".py",
   "mimetype": "text/x-python",
   "name": "python",
   "nbconvert_exporter": "python",
   "pygments_lexer": "ipython3",
   "version": "3.5.1"
  }
 },
 "nbformat": 4,
 "nbformat_minor": 0
}
