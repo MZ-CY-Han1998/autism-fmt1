{
 "cells": [
  {
   "cell_type": "code",
   "execution_count": 1,
   "metadata": {
    "collapsed": false
   },
   "outputs": [],
   "source": [
    "%matplotlib inline\n",
    "\n",
    "from glob import glob\n",
    "import os.path\n",
    "import pandas as pd\n",
    "import matplotlib.pyplot as plt\n",
    "\n",
    "import asd\n",
    "\n",
    "tax_dir = \"../microbiome-data/vsearch-derep/cd_even5720/taxa_plots/\"\n",
    "tax_fps = glob(os.path.join(tax_dir, '*L[1234567].txt'))\n",
    "sample_md_fp = 'combined-map.tsv'\n",
    "\n",
    "out_dir = 'tax-results'"
   ]
  },
  {
   "cell_type": "code",
   "execution_count": 2,
   "metadata": {
    "collapsed": false
   },
   "outputs": [],
   "source": [
    "sample_md = pd.read_csv(sample_md_fp, sep='\\t', index_col=0, dtype=object)\n",
    "sample_md = pd.concat([sample_md] + [pd.read_csv(e, sep='\\t', skiprows=1, index_col=0).T for e in tax_fps],\n",
    "                      axis=1)"
   ]
  },
  {
   "cell_type": "markdown",
   "metadata": {},
   "source": [
    "```\n",
    "Abundance:\n",
    "genus Prevotellaceae, Prevotella, P. copri (Kang et al. 2013)\n",
    "genus Coprococcus and family Veillonellaceae (Kang et al. 2013)\n",
    "species Bacteroides fragilis, Bacteroides Uniformis, Bacteroides vulgatus (Yano et al. 2015, Hsiao et al. 2013)\n",
    "family Alcaligenaceae, genus Sutterella (Williams et al. 2012)\n",
    "genus Haemophilus, Haemophilus parainfluenzae\n",
    "genus Faecalibacterium, Faecalibacterium prausnitzii\n",
    "genus Bifidobacterium (Adams et al. 2011)\n",
    "genus Lactobacillus (Das et al. 2015, Adams et al. 2011)\n",
    "genus Desulfovibrio (De Theije et al. 2014, Finegold et al. 2010)\n",
    "Species Clostridium difficile, Clostridium bolteae, Clostridium symbosum (O’Keefe et al. 2015; Song et al. 2004)\n",
    "\n",
    "Ratio:\n",
    "Ratio phylum Bacteroidetes/Firmicutes (Tomova et al. 2015)\n",
    "Ratio family Enterobacteriaceae/Bacteroidaceae (Azad et al. 2015)\n",
    "Ratio genus Prevotella/Bacteroides (Kang et al. 2013)\n",
    "\n",
    "If available, here are some more.\n",
    "genus Akkermansia (Wang et al. 2011)\n",
    "genus Oscillospira\n",
    "genera Salmonella, Escherichia/Shigella, Citrobacter (Kang et al. 2013, Gondalia et al. 2012)\n",
    "genus Ruminococcus, R. torques (Wang et al. 2013)\n",
    "genera Caloramator, Sarcina, Clostridium (De Angelis e ta. 2013)\n",
    "Barnesiella viscericola\n",
    "genus Roseburia, Roseburia faecis, R. intestinalis (O’Keefe et al. 2015)\n",
    "Butyricicoccus pullicaecorum\n",
    "genus Christensenella (Goodrich et al. 2014)\n",
    "Microbacterium paratuberclosis (Samsam et al. 2014)\n",
    "genera Corynebacterium, Streptococcus, species E. coli (Roshchina et al. 2010, Yano et al. 2015)\n",
    "```"
   ]
  },
  {
   "cell_type": "code",
   "execution_count": 3,
   "metadata": {
    "collapsed": true
   },
   "outputs": [],
   "source": [
    "taxa_of_interest = [\n",
    " 'k__Bacteria;p__Actinobacteria;c__Actinobacteria;o__Actinomycetales;f__Corynebacteriaceae;g__Corynebacterium',\n",
    " 'k__Bacteria;p__Actinobacteria;c__Actinobacteria;o__Bifidobacteriales;f__Bifidobacteriaceae;g__Bifidobacterium',\n",
    " 'k__Bacteria;p__Bacteroidetes;c__Bacteroidia;o__Bacteroidales;f__Bacteroidaceae',\n",
    " 'k__Bacteria;p__Bacteroidetes;c__Bacteroidia;o__Bacteroidales;f__Bacteroidaceae;g__Bacteroides',\n",
    " 'k__Bacteria;p__Bacteroidetes;c__Bacteroidia;o__Bacteroidales;f__Bacteroidaceae;g__Bacteroides;s__fragilis',\n",
    " 'k__Bacteria;p__Bacteroidetes;c__Bacteroidia;o__Bacteroidales;f__Bacteroidaceae;g__Bacteroides;s__uniformis',\n",
    " 'k__Bacteria;p__Bacteroidetes;c__Bacteroidia;o__Bacteroidales;f__Prevotellaceae',\n",
    " 'k__Bacteria;p__Bacteroidetes;c__Bacteroidia;o__Bacteroidales;f__Prevotellaceae;g__Prevotella',\n",
    " 'k__Bacteria;p__Bacteroidetes;c__Bacteroidia;o__Bacteroidales;f__Prevotellaceae;g__Prevotella;s__copri',\n",
    " 'k__Bacteria;p__Firmicutes;c__Bacilli;o__Lactobacillales;f__Lactobacillaceae;g__Lactobacillus',\n",
    " 'k__Bacteria;p__Firmicutes;c__Bacilli;o__Lactobacillales;f__Streptococcaceae;g__Streptococcus',\n",
    " 'k__Bacteria;p__Firmicutes;c__Clostridia;o__Clostridiales;f__Christensenellaceae;g__Christensenella',\n",
    " 'k__Bacteria;p__Firmicutes;c__Clostridia;o__Clostridiales;f__Clostridiaceae;g__Caloramator',\n",
    " 'k__Bacteria;p__Firmicutes;c__Clostridia;o__Clostridiales;f__Clostridiaceae;g__Caloramator',\n",
    " 'k__Bacteria;p__Firmicutes;c__Clostridia;o__Clostridiales;f__Clostridiaceae;g__Sarcina',\n",
    " 'k__Bacteria;p__Firmicutes;c__Clostridia;o__Clostridiales;f__Lachnospiraceae;g__Clostridium',\n",
    " 'k__Bacteria;p__Firmicutes;c__Clostridia;o__Clostridiales;f__Lachnospiraceae;g__Clostridium;s__bolteae',\n",
    " 'k__Bacteria;p__Firmicutes;c__Clostridia;o__Clostridiales;f__Lachnospiraceae;g__Roseburia;s__faecis',\n",
    " 'k__Bacteria;p__Firmicutes;c__Clostridia;o__Clostridiales;f__Lachnospiraceae;g__[Ruminococcus];s__torques',\n",
    " 'k__Bacteria;p__Firmicutes;c__Clostridia;o__Clostridiales;f__Peptostreptococcaceae;g__Clostridium;s__difficile',\n",
    " 'k__Bacteria;p__Firmicutes;c__Clostridia;o__Clostridiales;f__Ruminococcaceae;g__Butyricicoccus;s__pullicaecorum',\n",
    " 'k__Bacteria;p__Firmicutes;c__Clostridia;o__Clostridiales;f__Ruminococcaceae;g__Faecalibacterium',\n",
    " 'k__Bacteria;p__Firmicutes;c__Clostridia;o__Clostridiales;f__Ruminococcaceae;g__Faecalibacterium;s__prausnitzii',\n",
    " 'k__Bacteria;p__Firmicutes;c__Clostridia;o__Clostridiales;f__Ruminococcaceae;g__Oscillospira',\n",
    " 'k__Bacteria;p__Firmicutes;c__Clostridia;o__Clostridiales;f__Ruminococcaceae;g__Ruminococcus',\n",
    " 'k__Bacteria;p__Firmicutes;c__Clostridia;o__Clostridiales;f__Veillonellaceae',\n",
    " 'k__Bacteria;p__Proteobacteria;c__Betaproteobacteria;o__Burkholderiales;f__Alcaligenaceae',\n",
    " 'k__Bacteria;p__Proteobacteria;c__Betaproteobacteria;o__Burkholderiales;f__Alcaligenaceae;g__Sutterella',\n",
    " 'k__Bacteria;p__Proteobacteria;c__Deltaproteobacteria;o__Desulfovibrionales;f__Desulfovibrionaceae;g__Desulfovibrio',\n",
    " 'k__Bacteria;p__Proteobacteria;c__Gammaproteobacteria;o__Enterobacteriales;f__Enterobacteriaceae',\n",
    " 'k__Bacteria;p__Proteobacteria;c__Gammaproteobacteria;o__Enterobacteriales;f__Enterobacteriaceae;g__Citrobacter',\n",
    " 'k__Bacteria;p__Proteobacteria;c__Gammaproteobacteria;o__Enterobacteriales;f__Enterobacteriaceae;g__Escherichia',\n",
    " 'k__Bacteria;p__Proteobacteria;c__Gammaproteobacteria;o__Enterobacteriales;f__Enterobacteriaceae;g__Escherichia;s__coli',\n",
    " 'k__Bacteria;p__Proteobacteria;c__Gammaproteobacteria;o__Enterobacteriales;f__Enterobacteriaceae;g__Salmonella',\n",
    " 'k__Bacteria;p__Proteobacteria;c__Gammaproteobacteria;o__Enterobacteriales;f__Enterobacteriaceae;g__Shigella',\n",
    " 'k__Bacteria;p__Proteobacteria;c__Gammaproteobacteria;o__Pasteurellales;f__Pasteurellaceae;g__Haemophilus',\n",
    " 'k__Bacteria;p__Proteobacteria;c__Gammaproteobacteria;o__Pasteurellales;f__Pasteurellaceae;g__Haemophilus;s__parainfluenzae',\n",
    " 'k__Bacteria;p__Verrucomicrobia;c__Verrucomicrobiae;o__Verrucomicrobiales;f__Verrucomicrobiaceae;g__Akkermansia'\n",
    "]"
   ]
  },
  {
   "cell_type": "markdown",
   "metadata": {},
   "source": [
    "Generate stats tables and plots for all taxa of interest. The stats in the plot are difference from time zero (paired test), while the stats in the table are difference from control (unpaired test). "
   ]
  },
  {
   "cell_type": "code",
   "execution_count": 6,
   "metadata": {
    "collapsed": false
   },
   "outputs": [
    {
     "name": "stderr",
     "output_type": "stream",
     "text": [
      "/Users/caporaso/miniconda3/envs/q2d2/lib/python3.5/site-packages/numpy/core/_methods.py:59: RuntimeWarning: Mean of empty slice.\n",
      "  warnings.warn(\"Mean of empty slice.\", RuntimeWarning)\n",
      "/Users/caporaso/miniconda3/envs/q2d2/lib/python3.5/site-packages/numpy/core/_methods.py:82: RuntimeWarning: Degrees of freedom <= 0 for slice\n",
      "  warnings.warn(\"Degrees of freedom <= 0 for slice\", RuntimeWarning)\n"
     ]
    },
    {
     "data": {
      "image/png": "[encoded data removed]",
      "text/plain": [
       "<matplotlib.figure.Figure at 0x110b716d8>"
      ]
     },
     "metadata": {},
     "output_type": "display_data"
    }
   ],
   "source": [
    "for sample_type in ['stool', 'swab']:\n",
    "    for t in taxa_of_interest:\n",
    "        fn = t.replace(';', '-')\n",
    "        pdf_fn = os.path.join(out_dir, '%s-%s.pdf' % (fn, sample_type))\n",
    "        csv1_fn = os.path.join(out_dir, '%s-%s-v-control.csv' % (fn, sample_type))\n",
    "        csv2_fn = os.path.join(out_dir, '%s-%s-v-time0.csv' % (fn, sample_type))\n",
    "        if os.path.exists(csv_fn) or t not in sample_md.columns:\n",
    "            # skip this taxon if it wasn't observed\n",
    "            continue\n",
    "        ax = asd.plot_week_data_with_stats(sample_md, sample_type=sample_type,\n",
    "                                           metric=t, hue='responder')\n",
    "        ax.set_ylabel('')\n",
    "        ax.legend().remove()\n",
    "        ax.get_figure().savefig(pdf_fn)\n",
    "        df = asd.tabulate_week_to_control_stats(sample_md, sample_type=sample_type, metric=t)\n",
    "        df.to_csv(csv1_fn)\n",
    "        df = asd.tabulate_week_to_week0_paired_stats(sample_md, sample_type=sample_type, metric=t)\n",
    "        df.to_csv(csv2_fn)\n",
    "        plt.cla()\n"
   ]
  },
  {
   "cell_type": "code",
   "execution_count": null,
   "metadata": {
    "collapsed": true
   },
   "outputs": [],
   "source": []
  }
 ],
 "metadata": {
  "kernelspec": {
   "display_name": "Python 3",
   "language": "python",
   "name": "python3"
  },
  "language_info": {
   "codemirror_mode": {
    "name": "ipython",
    "version": 3
   },
   "file_extension": ".py",
   "mimetype": "text/x-python",
   "name": "python",
   "nbconvert_exporter": "python",
   "pygments_lexer": "ipython3",
   "version": "3.5.0"
  }
 },
 "nbformat": 4,
 "nbformat_minor": 0
}
